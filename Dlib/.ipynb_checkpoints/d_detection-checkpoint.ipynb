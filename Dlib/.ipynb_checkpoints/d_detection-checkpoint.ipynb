{
 "cells": [
  {
   "cell_type": "markdown",
   "metadata": {},
   "source": [
    "# Face detection with DLIB"
   ]
  },
  {
   "cell_type": "code",
   "execution_count": 1,
   "metadata": {},
   "outputs": [],
   "source": [
    "import dlib\n",
    "from os import listdir, chdir, path\n",
    "import time\n",
    "from cv2 import imread, imwrite, rectangle\n",
    "\n",
    "IMAGES_FOLDER = \"../Images/Detection\"\n",
    "CNN_MODEL_PATH = \"Models/mmod_human_face_detector.dat\"\n",
    "CNN = 1"
   ]
  },
  {
   "cell_type": "code",
   "execution_count": 2,
   "metadata": {},
   "outputs": [],
   "source": [
    "files = listdir(IMAGES_FOLDER, )\n",
    "image_files = [f for f in files if f.endswith('.jpg') and not f.startswith('cnn') and not f.startswith('dnn')]"
   ]
  },
  {
   "cell_type": "code",
   "execution_count": 3,
   "metadata": {},
   "outputs": [
    {
     "name": "stdout",
     "output_type": "stream",
     "text": [
      "1. Processing image: selfie_oscar.jpg\n",
      "    Number of faces detected: 10 \n",
      "\n",
      "      Detection 0: Left: 961 Top: 529 Right: 1313 Bottom: 881 Confidence: 1.1373541355133057\n",
      "      Detection 1: Left: 458 Top: 112 Right: 628 Bottom: 282 Confidence: 1.107975959777832\n",
      "      Detection 2: Left: 1400 Top: 330 Right: 1645 Bottom: 574 Confidence: 1.1054145097732544\n",
      "      Detection 3: Left: 888 Top: 140 Right: 1030 Bottom: 282 Confidence: 1.0959964990615845\n",
      "      Detection 4: Left: 199 Top: 166 Right: 492 Bottom: 459 Confidence: 1.07486093044281\n",
      "      Detection 5: Left: 633 Top: 478 Right: 877 Bottom: 723 Confidence: 1.071588158607483\n",
      "      Detection 6: Left: 640 Top: 99 Right: 844 Bottom: 303 Confidence: 1.071418285369873\n",
      "      Detection 7: Left: 1078 Top: -17 Right: 1323 Bottom: 228 Confidence: 1.0593582391738892\n",
      "      Detection 8: Left: 434 Top: 388 Right: 638 Bottom: 592 Confidence: 1.0286145210266113\n",
      "      Detection 9: Left: 1318 Top: 140 Right: 1460 Bottom: 282 Confidence: 0.3764454126358032\n",
      "\n"
     ]
    }
   ],
   "source": [
    "count = 0\n",
    "# win = dlib.image_window()\n",
    "\n",
    "if CNN:\n",
    "    detector = dlib.cnn_face_detection_model_v1(CNN_MODEL_PATH)\n",
    "    for f in image_files:\n",
    "        count += 1    \n",
    "        print(\"{}. Processing image: {}\".format(count, f))\n",
    "        \n",
    "        img = imread(path.join(IMAGES_FOLDER, f))\n",
    "        dets = detector(img, 1)\n",
    "        print(\"    Number of faces detected: {} \\n\".format(len(dets)))\n",
    "        \n",
    "        # rects = dlib.rectangles()\n",
    "        for i, d in enumerate(dets):\n",
    "            print(\"      Detection {}: Left: {} Top: {} Right: {} Bottom: {} Confidence: {}\".format(\n",
    "                i, d.rect.left(), d.rect.top(), d.rect.right(), d.rect.bottom(), d.confidence))\n",
    "            \n",
    "            # rects.extend(d.rect)\n",
    "            rectangle(img, (d.rect.left(), d.rect.top()), (d.rect.right(), d.rect.bottom()), (0, 0, 255), 2)\n",
    "        \n",
    "        print(\"\")\n",
    "        imwrite(IMAGES_FOLDER + \"/cnn_\" + f, img)   \n",
    "        \n",
    "        # win.clear_overlay()\n",
    "        # win.set_image(img)\n",
    "        # win.add_overlay(rects)\n",
    "        # time.sleep(1)\n",
    "else:\n",
    "    detector = dlib.get_frontal_face_detector()   \n",
    "    for f in image_files:\n",
    "        count += 1    \n",
    "        print(\"{}. Processing image: {}\".format(count, f))\n",
    "        \n",
    "        img = imread(path.join(IMAGES_FOLDER, f))\n",
    "        dets = detector(img, 1)\n",
    "        print(\"    Number of faces detected: {} \\n\".format(len(dets)))\n",
    "        \n",
    "        for i, d in enumerate(dets):\n",
    "            print(\"      Detection {}: Left: {} Top: {} Right: {} Bottom: {}\".format(\n",
    "                i, d.left(), d.top(), d.right(), d.bottom()))\n",
    "            \n",
    "            # face = img[d.top():d.bottom(), d.left():d.right(),:]\n",
    "            rectangle(img, (d.left(), d.top()), (d.right(), d.bottom()), (0, 0, 255), 2)\n",
    "        \n",
    "        print(\"\")\n",
    "        imwrite(IMAGES_FOLDER + \"/dnn_\" + f, img)\n",
    "        \n",
    "        # win.clear_overlay()\n",
    "        # win.set_image(img)\n",
    "        # win.add_overlay(dets)\n",
    "        # time.sleep(1)\n",
    "            "
   ]
  }
 ],
 "metadata": {
  "kernelspec": {
   "display_name": "Python 3",
   "language": "python",
   "name": "python3"
  },
  "language_info": {
   "codemirror_mode": {
    "name": "ipython",
    "version": 3
   },
   "file_extension": ".py",
   "mimetype": "text/x-python",
   "name": "python",
   "nbconvert_exporter": "python",
   "pygments_lexer": "ipython3",
   "version": "3.5.4"
  }
 },
 "nbformat": 4,
 "nbformat_minor": 2
}
