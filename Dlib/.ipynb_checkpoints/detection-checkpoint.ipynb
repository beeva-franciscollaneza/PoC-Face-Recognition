{
 "cells": [
  {
   "cell_type": "code",
   "execution_count": 7,
   "metadata": {
    "collapsed": false
   },
   "outputs": [],
   "source": [
    "from os import listdir, chdir, path\n",
    "from skimage import io\n",
    "import time\n",
    "import dlib\n",
    "\n",
    "predictor_path = \"Models/shape_predictor_5_face_landmarks.dat\"\n",
    "face_rec_model_path = \"Models/dlib_face_recognition_resnet_model_v1.dat\"\n",
    "faces_folder_path = \"../Images/Detection\""
   ]
  },
  {
   "cell_type": "code",
   "execution_count": 27,
   "metadata": {
    "collapsed": false
   },
   "outputs": [
    {
     "data": {
      "text/plain": [
       "['bald_guys.jpg',\n",
       " '2008_004176.jpg',\n",
       " '2008_002470.jpg',\n",
       " '2009_004587.jpg',\n",
       " '2008_002079.jpg']"
      ]
     },
     "execution_count": 27,
     "metadata": {},
     "output_type": "execute_result"
    }
   ],
   "source": [
    "files = listdir(faces_folder_path, )\n",
    "image_files = [file for file in files if file.endswith('.jpg')]\n",
    "image_files[0:5]"
   ]
  },
  {
   "cell_type": "code",
   "execution_count": 30,
   "metadata": {
    "collapsed": false
   },
   "outputs": [
    {
     "name": "stdout",
     "output_type": "stream",
     "text": [
      "Processing image: cara_calvo.jpg\n",
      "Number of faces detected: 1\n",
      "\n"
     ]
    }
   ],
   "source": [
    "detector = dlib.get_frontal_face_detector()\n",
    "detected_faces = list()\n",
    "\n",
    "win = dlib.image_window()\n",
    "\n",
    "for f in ['cara_calvo.jpg']:\n",
    "    print(\"Processing image: {}\".format(f))\n",
    "    img = io.imread(path.join(faces_folder_path, f))\n",
    "    # The 1 in the second argument indicates that we should upsample the image\n",
    "    # 1 time.  This will make everything bigger and allow us to detect more\n",
    "    # faces.\n",
    "    dets = detector(img, 1)\n",
    "    print \"Number of faces detected: {}\".format(len(dets))\n",
    "    print \"\"\n",
    "    for i, d in enumerate(dets):\n",
    "        face = img[d.top():d.bottom(), d.left():d.right(),:]\n",
    "        detected_faces.append(face)\n",
    "        # print(\"Detection {}: Left: {} Top: {} Right: {} Bottom: {}\".format(i, d.left(), d.top(), d.right(), d.bottom()))\n",
    "\n",
    "    win.clear_overlay()\n",
    "    win.set_image(img)\n",
    "    win.add_overlay(dets)\n",
    "    time.sleep(2)"
   ]
  },
  {
   "cell_type": "code",
   "execution_count": null,
   "metadata": {
    "collapsed": true
   },
   "outputs": [],
   "source": []
  }
 ],
 "metadata": {
  "kernelspec": {
   "display_name": "Python [conda env:python2]",
   "language": "python",
   "name": "conda-env-python2-py"
  },
  "language_info": {
   "codemirror_mode": {
    "name": "ipython",
    "version": 2
   },
   "file_extension": ".py",
   "mimetype": "text/x-python",
   "name": "python",
   "nbconvert_exporter": "python",
   "pygments_lexer": "ipython2",
   "version": "2.7.13"
  }
 },
 "nbformat": 4,
 "nbformat_minor": 2
}
