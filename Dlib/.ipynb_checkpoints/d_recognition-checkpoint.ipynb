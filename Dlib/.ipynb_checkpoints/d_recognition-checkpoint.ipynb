{
 "cells": [
  {
   "cell_type": "markdown",
   "metadata": {},
   "source": [
    "# Face recognition with DLIB"
   ]
  },
  {
   "cell_type": "code",
   "execution_count": 1,
   "metadata": {},
   "outputs": [],
   "source": [
    "import dlib\n",
    "from os import listdir, chdir, path, getcwd\n",
    "from skimage import io\n",
    "import time\n",
    "import numpy as np\n",
    "from sklearn.cluster import DBSCAN\n",
    "\n",
    "SHAPE_PREDICTOR_MODEL_PATH = \"Models/shape_predictor_5_face_landmarks.dat\"\n",
    "FACE_RECOGNITION_MODEL_PATH = \"Models/dlib_face_recognition_resnet_model_v1.dat\"\n",
    "IMAGES_FOLDER = \"../Images/Recognition\""
   ]
  },
  {
   "cell_type": "code",
   "execution_count": 2,
   "metadata": {},
   "outputs": [],
   "source": [
    "files = listdir(IMAGES_FOLDER, )\n",
    "image_files = [f for f in files if f.endswith('.jpg') and not f.startswith(\"person\") and not f.startswith(\"comparison\")]"
   ]
  },
  {
   "cell_type": "code",
   "execution_count": 19,
   "metadata": {},
   "outputs": [
    {
     "name": "stdout",
     "output_type": "stream",
     "text": [
      "1. Processing file bald_guys.jpg\n",
      "Number of faces detected: 24\n"
     ]
    },
    {
     "ename": "KeyboardInterrupt",
     "evalue": "",
     "output_type": "error",
     "traceback": [
      "\u001b[0;31m---------------------------------------------------------------------------\u001b[0m",
      "\u001b[0;31mKeyboardInterrupt\u001b[0m                         Traceback (most recent call last)",
      "\u001b[0;32m<ipython-input-19-e6fa227bc81b>\u001b[0m in \u001b[0;36m<module>\u001b[0;34m()\u001b[0m\n\u001b[1;32m     31\u001b[0m         \u001b[0mdetected_faces\u001b[0m\u001b[0;34m.\u001b[0m\u001b[0mappend\u001b[0m\u001b[0;34m(\u001b[0m\u001b[0mface\u001b[0m\u001b[0;34m)\u001b[0m\u001b[0;34m\u001b[0m\u001b[0m\n\u001b[1;32m     32\u001b[0m         \u001b[0mshape\u001b[0m \u001b[0;34m=\u001b[0m \u001b[0msp\u001b[0m\u001b[0;34m(\u001b[0m\u001b[0mimg\u001b[0m\u001b[0;34m,\u001b[0m \u001b[0md\u001b[0m\u001b[0;34m)\u001b[0m\u001b[0;34m\u001b[0m\u001b[0m\n\u001b[0;32m---> 33\u001b[0;31m         \u001b[0mface_descriptor\u001b[0m\u001b[0;34m.\u001b[0m\u001b[0mappend\u001b[0m\u001b[0;34m(\u001b[0m\u001b[0mnp\u001b[0m\u001b[0;34m.\u001b[0m\u001b[0marray\u001b[0m\u001b[0;34m(\u001b[0m\u001b[0mfacerec\u001b[0m\u001b[0;34m.\u001b[0m\u001b[0mcompute_face_descriptor\u001b[0m\u001b[0;34m(\u001b[0m\u001b[0mimg\u001b[0m\u001b[0;34m,\u001b[0m \u001b[0mshape\u001b[0m\u001b[0;34m,\u001b[0m \u001b[0;36m100\u001b[0m\u001b[0;34m)\u001b[0m\u001b[0;34m)\u001b[0m\u001b[0;34m)\u001b[0m\u001b[0;34m\u001b[0m\u001b[0m\n\u001b[0m\u001b[1;32m     34\u001b[0m \u001b[0;34m\u001b[0m\u001b[0m\n\u001b[1;32m     35\u001b[0m         \u001b[0mwin\u001b[0m\u001b[0;34m.\u001b[0m\u001b[0madd_overlay\u001b[0m\u001b[0;34m(\u001b[0m\u001b[0md\u001b[0m\u001b[0;34m)\u001b[0m\u001b[0;34m\u001b[0m\u001b[0m\n",
      "\u001b[0;31mKeyboardInterrupt\u001b[0m: "
     ]
    }
   ],
   "source": [
    "detector = dlib.get_frontal_face_detector()\n",
    "sp = dlib.shape_predictor(SHAPE_PREDICTOR_MODEL_PATH)\n",
    "facerec = dlib.face_recognition_model_v1(FACE_RECOGNITION_MODEL_PATH)\n",
    "face_descriptor = list()\n",
    "detected_faces = list()\n",
    "count = 0\n",
    "\n",
    "# win = dlib.image_window()\n",
    "\n",
    "for f in image_files:\n",
    "    \n",
    "    count += 1\n",
    "    \n",
    "    print(\"{}. Processing file {}\".format(count, f))\n",
    "    img = io.imread(path.join(IMAGES_FOLDER, f))\n",
    "    \n",
    "    # win.clear_overlay()\n",
    "    # win.set_image(img)\n",
    "    \n",
    "    dets = detector(img, 1)\n",
    "    print(\"Number of faces detected: {}\".format(len(dets)))\n",
    "    \n",
    "    for i, d in enumerate(dets):\n",
    "        # print(\"Detection {}: Left: {} Top: {} Right: {} Bottom: {}\".format(\n",
    "        #    i, d.left(), d.top(), d.right(), d.bottom()))\n",
    "        top = max(0, d.top())\n",
    "        bottom = min(img.shape[0], d.bottom())\n",
    "        left = max(0, d.left())\n",
    "        right = min(img.shape[1], d.right())\n",
    "        face = img[top:bottom, left:right,:]\n",
    "        detected_faces.append(face)\n",
    "        shape = sp(img, d)\n",
    "        face_descriptor.append(np.array(facerec.compute_face_descriptor(img, shape, 100)))\n",
    "        \n",
    "        # win.add_overlay(d)\n",
    "        # win.add_overlay(shape)\n",
    "                  \n",
    "face_descriptor = np.vstack(face_descriptor)"
   ]
  },
  {
   "cell_type": "code",
   "execution_count": 12,
   "metadata": {},
   "outputs": [],
   "source": [
    "cl = DBSCAN(eps=0.5, min_samples=1, metric='euclidean')\n",
    "people = cl.fit_predict(face_descriptor)\n",
    "count_by = np.bincount(people)\n",
    "persons = np.nonzero(count_by)[0]"
   ]
  },
  {
   "cell_type": "code",
   "execution_count": 14,
   "metadata": {},
   "outputs": [
    {
     "name": "stdout",
     "output_type": "stream",
     "text": [
      "Imagen => individuo\n",
      " 0 => 0\n",
      " 1 => 0\n",
      " 2 => 1\n",
      " 3 => 2\n",
      " 4 => 1\n",
      " 5 => 0\n",
      " 6 => 1\n",
      " 7 => 2\n",
      " 8 => 3\n",
      " 9 => 1\n",
      "10 => 3\n",
      "11 => 0\n",
      "12 => 2\n",
      "13 => 3\n",
      "14 => 2\n",
      "15 => 3\n",
      "16 => 3\n",
      "17 => 2\n",
      "18 => 1\n",
      "19 => 2\n",
      "20 => 1\n",
      "21 => 0\n",
      "22 => 0\n",
      "23 => 3\n"
     ]
    }
   ],
   "source": [
    "print(\"Imagen => individuo\")\n",
    "for i,j in zip(range(0, len(people)), people):\n",
    "    if (i < 10):\n",
    "        print(\" \" + str(i) + \" => \" + str(j))\n",
    "    else:\n",
    "        print(str(i) + \" => \" + str(j))"
   ]
  },
  {
   "cell_type": "code",
   "execution_count": 15,
   "metadata": {},
   "outputs": [
    {
     "name": "stdout",
     "output_type": "stream",
     "text": [
      "Individuo: número de veces que aparece\n",
      " 0: 6\n",
      " 1: 6\n",
      " 2: 6\n",
      " 3: 6\n"
     ]
    }
   ],
   "source": [
    "print(\"Individuo: número de veces que aparece\")\n",
    "for i,j in zip(persons, count_by):\n",
    "    if (i < 10):\n",
    "        print(\" \" + str(i) + \": \" + str(j))\n",
    "    else:\n",
    "        print(str(i) + \": \" + str(j))"
   ]
  },
  {
   "cell_type": "code",
   "execution_count": 18,
   "metadata": {},
   "outputs": [],
   "source": [
    "# win = dlib.image_window()\n",
    "for person in persons:\n",
    "    ind_faces = np.where(people == person)[0]\n",
    "    faces = [detected_faces[i] for i in ind_faces]\n",
    "    faces_dim = np.asarray([faces[i].shape for i in range(0,len(faces))])\n",
    "\n",
    "    max_rows = max(faces_dim[:,0])\n",
    "    max_cols = max(faces_dim[:,1])\n",
    "    pad_faces = np.asarray([np.lib.pad(faces[i], \n",
    "                            (\n",
    "                                (0, max_rows - faces[i].shape[0]),\n",
    "                                (0, max_cols - faces[i].shape[1]),\n",
    "                                (0,0)\n",
    "                            ), \n",
    "                            'constant', \n",
    "                            constant_values = 0) \n",
    "                 for i in range(0, len(faces))\n",
    "                ])\n",
    "    \n",
    "    concat_faces = np.hstack(pad_faces) \n",
    "    io.imsave(IMAGES_FOLDER + \"/person_\" + str(person) + \".jpg\", concat_faces)\n",
    "    \n",
    "    # win.clear_overlay()\n",
    "    # win.set_image(concat_faces)\n",
    "    # time.sleep(2)"
   ]
  }
 ],
 "metadata": {
  "kernelspec": {
   "display_name": "Python 3",
   "language": "python",
   "name": "python3"
  },
  "language_info": {
   "codemirror_mode": {
    "name": "ipython",
    "version": 3
   },
   "file_extension": ".py",
   "mimetype": "text/x-python",
   "name": "python",
   "nbconvert_exporter": "python",
   "pygments_lexer": "ipython3",
   "version": "3.5.4"
  }
 },
 "nbformat": 4,
 "nbformat_minor": 2
}
