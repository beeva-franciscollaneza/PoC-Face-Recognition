{
 "cells": [
  {
   "cell_type": "markdown",
   "metadata": {},
   "source": [
    "# Amazon Rekognition vs Dlib: Face Detection Comparison"
   ]
  },
  {
   "cell_type": "code",
   "execution_count": 22,
   "metadata": {},
   "outputs": [],
   "source": [
    "import dlib\n",
    "import boto3\n",
    "import botocore\n",
    "import numpy as np\n",
    "import cv2\n",
    "from os import getcwd, listdir\n",
    "import dlib\n",
    "import time\n",
    "\n",
    "PROFILE = \"innovacion-dev-developer\"\n",
    "BUCKET = \"poc-images-rekognition\"\n",
    "DATA_FOLDER = \"../Data/Detection/\"\n",
    "SAVE_FOLDER = DATA_FOLDER + \"Results/\"\n",
    "REGION = \"eu-west-1\"\n",
    "WITH_PROFILE = 1\n",
    "S3_FOLDER = \"Detection/\"\n",
    "CNN_MODEL_PATH = \"../Dlib/Models/mmod_human_face_detector.dat\"\n",
    "CNN = 0\n",
    "\n",
    "if CNN:\n",
    "    tag = \"/cnn_\"\n",
    "else:\n",
    "    tag = \"/hog_\""
   ]
  },
  {
   "cell_type": "code",
   "execution_count": 23,
   "metadata": {},
   "outputs": [],
   "source": [
    "if WITH_PROFILE:\n",
    "    session = boto3.Session(profile_name=PROFILE)\n",
    "    s3 = session.client(\"s3\")\n",
    "    rekognition = session.client(\"rekognition\", REGION)\n",
    "else:\n",
    "    s3 = boto3.client(\"s3\")\n",
    "    rekognition = boto3.client(\"rekognition\", REGION)"
   ]
  },
  {
   "cell_type": "code",
   "execution_count": 24,
   "metadata": {},
   "outputs": [],
   "source": [
    "files = listdir(LOCAL_FOLDER, )\n",
    "images_names = sorted([f for f in files if f.endswith('.jpg')])\n",
    "images = [cv2.imread(LOCAL_FOLDER + image) for image in images_names]\n",
    "n_images = len(images)"
   ]
  },
  {
   "cell_type": "code",
   "execution_count": 25,
   "metadata": {},
   "outputs": [],
   "source": [
    "def dlib_detect_faces(image, cnn = 0):\n",
    "    \n",
    "    if CNN:\n",
    "        detector = dlib.cnn_face_detection_model_v1(CNN_MODEL_PATH)\n",
    "    else:\n",
    "        detector = dlib.get_frontal_face_detector()\n",
    "    \n",
    "    dets = detector(image, 1)\n",
    "    return dets"
   ]
  },
  {
   "cell_type": "code",
   "execution_count": 26,
   "metadata": {},
   "outputs": [],
   "source": [
    "def aws_detect_faces(bucket, image, rekgonition_client):\n",
    "    response = rekgonition_client.detect_faces(\n",
    "        Image =\n",
    "        {\n",
    "            \"S3Object\": \n",
    "            {\n",
    "                \"Bucket\": bucket,\n",
    "                \"Name\": image,\n",
    "            }\n",
    "        }\n",
    "    )\n",
    "    return response"
   ]
  },
  {
   "cell_type": "code",
   "execution_count": 27,
   "metadata": {},
   "outputs": [],
   "source": [
    "def create_rectangle(coordinates, image_heigth, image_width):\n",
    "    bounding_check = dlib.rectangles()\n",
    "    for i in range(0, len(coordinates)):\n",
    "        coord = coordinates[i]\n",
    "        left = int(coord['Left']*image_width)\n",
    "        width = int(coord['Width']*image_width)\n",
    "        top = int(coord['Top']*image_heigth)\n",
    "        heigth = int(coord['Height']*image_heigth)\n",
    "        rect = dlib.rectangle(left, top, left + width, top + heigth)\n",
    "        bounding_check.append(rect)\n",
    "    return bounding_check"
   ]
  },
  {
   "cell_type": "code",
   "execution_count": 28,
   "metadata": {},
   "outputs": [
    {
     "name": "stdout",
     "output_type": "stream",
     "text": [
      "1. Processing image: Detection/2007_007763.jpg\n",
      "2. Processing image: Detection/2008_001009.jpg\n",
      "3. Processing image: Detection/2008_001322.jpg\n",
      "4. Processing image: Detection/2008_002079.jpg\n",
      "5. Processing image: Detection/2008_002470.jpg\n",
      "6. Processing image: Detection/2008_002506.jpg\n",
      "7. Processing image: Detection/2008_004176.jpg\n",
      "8. Processing image: Detection/2008_007676.jpg\n",
      "9. Processing image: Detection/2009_004587.jpg\n",
      "10. Processing image: Detection/bald_guys.jpg\n",
      "11. Processing image: Detection/cara_calvo.jpg\n",
      "12. Processing image: Detection/cara_cara.jpg\n",
      "13. Processing image: Detection/cara_perro.jpg\n",
      "14. Processing image: Detection/dogs.jpg\n",
      "15. Processing image: Detection/multitud.jpg\n",
      "16. Processing image: Detection/selfie_oscar.jpg\n"
     ]
    }
   ],
   "source": [
    "dlib_times = list()\n",
    "aws_times = list()\n",
    "\n",
    "# win = dlib.image_window()\n",
    "\n",
    "for i in range(0, n_images):\n",
    "    img = images[i]\n",
    "    img_name = images_names[i]\n",
    "    \n",
    "    print(\"{}. Processing image: {}\".format(i+1, S3_FOLDER + img_name))\n",
    "    t1 = time.time()\n",
    "    dlib_bounding_checks = dlib_detect_faces(img, cnn = CNN)\n",
    "    t2 = time.time()\n",
    "    aws_detected_faces = aws_detect_faces(BUCKET, S3_FOLDER + img_name, rekognition)\n",
    "    t3 = time.time()\n",
    "    \n",
    "    dlib_times.append(t2-t1)\n",
    "    aws_times.append(t3-t2)\n",
    "    \n",
    "\n",
    "    coordinates = [face['BoundingBox'] for face in aws_detected_faces['FaceDetails']]\n",
    "    image_heigth = img.shape[0]\n",
    "    image_width = img.shape[1]\n",
    "    aws_bounding_checks = create_rectangle(coordinates, image_heigth, image_width)\n",
    "    \n",
    "    for d in aws_bounding_checks:\n",
    "        cv2.rectangle(img, (d.left(), d.top()), (d.right(), d.bottom()), (0, 0, 255), 2)  \n",
    "   \n",
    "    if CNN: \n",
    "        for d in dlib_bounding_checks:\n",
    "            cv2.rectangle(img, (d.rect.left(), d.rect.top()), (d.rect.right(), d.rect.bottom()), (137, 78, 0), 2)\n",
    "    else:\n",
    "        for d in dlib_bounding_checks:\n",
    "            cv2.rectangle(img, (d.left(), d.top()), (d.right(), d.bottom()), (137, 78, 0), 2)   \n",
    "    \n",
    "    cv2.imwrite(SAVE_FOLDER + tag + img_name, img)\n",
    "        \n",
    "    # win.clear_overlay()\n",
    "    # win.set_image(image)\n",
    "    # win.add_overlay(dlib_bounding_checks, dlib.rgb_pixel(0,0,255))\n",
    "    # win.add_overlay(aws_bounding_checks)"
   ]
  },
  {
   "cell_type": "code",
   "execution_count": 67,
   "metadata": {},
   "outputs": [],
   "source": [
    "f = open(\"Times/dlib_detection_times.txt\",\"w\") \n",
    "f.writelines('{}'.format(dlib_times))\n",
    "f.close()\n",
    "\n",
    "g = open(\"Times/aws_detection_times.txt\",\"w\") \n",
    "g.writelines('{}'.format(aws_times))\n",
    "g.close()"
   ]
  }
 ],
 "metadata": {
  "kernelspec": {
   "display_name": "Python 3",
   "language": "python",
   "name": "python3"
  },
  "language_info": {
   "codemirror_mode": {
    "name": "ipython",
    "version": 3
   },
   "file_extension": ".py",
   "mimetype": "text/x-python",
   "name": "python",
   "nbconvert_exporter": "python",
   "pygments_lexer": "ipython3",
   "version": "3.5.4"
  }
 },
 "nbformat": 4,
 "nbformat_minor": 2
}
