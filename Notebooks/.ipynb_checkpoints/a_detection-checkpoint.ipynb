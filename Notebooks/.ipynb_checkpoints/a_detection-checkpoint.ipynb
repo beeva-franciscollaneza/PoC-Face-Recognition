{
 "cells": [
  {
   "cell_type": "markdown",
   "metadata": {},
   "source": [
    "# Face detection with Amazon Rekognition"
   ]
  },
  {
   "cell_type": "code",
   "execution_count": 21,
   "metadata": {
    "collapsed": false
   },
   "outputs": [],
   "source": [
    "import dlib\n",
    "import boto3\n",
    "import botocore\n",
    "import numpy as np\n",
    "from skimage import io\n",
    "from os import getcwd, listdir\n",
    "import dlib\n",
    "import time\n",
    "\n",
    "PROFILE = \"innovacion-dev-developer\"\n",
    "BUCKET = \"poc-images-rekognition\"\n",
    "LOCAL_FOLDER = \"../Images/Detection/\"\n",
    "REGION = \"eu-west-1\"\n",
    "S3_FOLDER = \"Detection/\"\n",
    "CNN_MODEL_PATH = \"../Dlib/Models/mmod_human_face_detector.dat\"\n",
    "CNN = 0\n",
    "FILES_IN_LOCAL = 1"
   ]
  },
  {
   "cell_type": "code",
   "execution_count": 22,
   "metadata": {
    "collapsed": false
   },
   "outputs": [],
   "source": [
    "session = boto3.Session(profile_name=PROFILE)"
   ]
  },
  {
   "cell_type": "code",
   "execution_count": 23,
   "metadata": {
    "collapsed": false
   },
   "outputs": [],
   "source": [
    "s3 = session.client(\"s3\")\n",
    "if FILES_IN_LOCAL:\n",
    "    files = listdir(LOCAL_FOLDER, )\n",
    "    images_names = [file for file in files if file.endswith('.jpg')]\n",
    "    buckets_list = s3.list_buckets()['Buckets']\n",
    "    buckets_names = [buckets_list[i]['Name'] for i in range(0,len(buckets_list))]\n",
    "    \n",
    "    # Create S3 bucket called BUCKET\n",
    "    if BUCKET not in buckets_names:\n",
    "        s3.create_bucket(Bucket=BUCKET, CreateBucketConfiguration={'LocationConstraint': REGION})\n",
    "        \n",
    "    # Upload images to S3_FOLDER in BUCKET\n",
    "    objects_list = s3.list_objects(Bucket=BUCKET)\n",
    "    if len(objects_list)>7:\n",
    "        objects_keys = [key['Key'].encode(\"UTF-8\") for key in objects_list['Contents']]\n",
    "        if not any(S3_FOLDER in s for s in objects_keys):\n",
    "            for image in images_names:\n",
    "                s3.upload_file(LOCAL_FOLDER + image, BUCKET, S3_FOLDER + image)\n",
    "    else:\n",
    "        for image in images_names:\n",
    "            s3.upload_file(LOCAL_FOLDER + image, BUCKET, S3_FOLDER + image)\n",
    "else:\n",
    "    objects_list = s3.list_objects(Bucket = BUCKET)\n",
    "    objects_keys = [key['Key'].encode(\"UTF-8\") for key in objects_list['Contents']]\n",
    "    for image in objects_keys:\n",
    "        try:\n",
    "            s3.download_file(BUCKET, image, LOCAL_FOLDER + image)\n",
    "        except botocore.exceptions.ClientError as e:\n",
    "            if e.response['Error']['Code'] == \"404\":\n",
    "                print \"The object does not exist\"\n",
    "            else:\n",
    "                raise"
   ]
  },
  {
   "cell_type": "code",
   "execution_count": 24,
   "metadata": {
    "collapsed": true
   },
   "outputs": [],
   "source": [
    "images = [io.imread(LOCAL_FOLDER + image) for image in images_names]\n",
    "n_images = len(images)"
   ]
  },
  {
   "cell_type": "code",
   "execution_count": 31,
   "metadata": {
    "collapsed": true
   },
   "outputs": [],
   "source": [
    "def dlib_detect_faces(image, CNN = 0):\n",
    "    \n",
    "    if CNN:\n",
    "        detector = dlib.cnn_face_detection_model_v1(CNN_MODEL_PATH)\n",
    "    else:\n",
    "        detector = dlib.get_frontal_face_detector()\n",
    "    \n",
    "    dets = detector(image, 1)\n",
    "    return dets"
   ]
  },
  {
   "cell_type": "code",
   "execution_count": 32,
   "metadata": {
    "collapsed": false
   },
   "outputs": [],
   "source": [
    "def aws_detect_faces(bucket, image, region=REGION):\n",
    "    rekognition = session.client(\"rekognition\", region)\n",
    "    response = rekognition.detect_faces(\n",
    "        Image=\n",
    "        {\n",
    "            \"S3Object\": \n",
    "            {\n",
    "                \"Bucket\": bucket,\n",
    "                \"Name\": image,\n",
    "            }\n",
    "        }\n",
    "    )\n",
    "    return response"
   ]
  },
  {
   "cell_type": "code",
   "execution_count": 33,
   "metadata": {
    "collapsed": true
   },
   "outputs": [],
   "source": [
    "def create_rectangle(coordinates, image_heigth, image_width):\n",
    "    bounding_check = dlib.rectangles()\n",
    "    for i in range(0, len(coordinates)):\n",
    "        coord = coordinates[i]\n",
    "        left = int(coord['Left']*image_width)\n",
    "        width = int(coord['Width']*image_width)\n",
    "        top = int(coord['Top']*image_heigth)\n",
    "        heigth = int(coord['Height']*image_heigth)\n",
    "        rect = dlib.rectangle(left, top, left + width, top + heigth)\n",
    "        bounding_check.append(rect)\n",
    "    return bounding_check"
   ]
  },
  {
   "cell_type": "code",
   "execution_count": 52,
   "metadata": {
    "collapsed": false
   },
   "outputs": [
    {
     "name": "stdout",
     "output_type": "stream",
     "text": [
      "1. Processing image: Detection/bald_guys.jpg\n",
      "Number of faces detected: 1\n",
      "\n",
      "2. Processing image: Detection/2008_004176.jpg\n",
      "Number of faces detected: 1\n",
      "\n",
      "3. Processing image: Detection/2008_002470.jpg\n",
      "Number of faces detected: 1\n",
      "\n",
      "4. Processing image: Detection/2009_004587.jpg\n",
      "Number of faces detected: 1\n",
      "\n",
      "5. Processing image: Detection/cara_cara.jpg\n",
      "Number of faces detected: 1\n",
      "\n",
      "6. Processing image: Detection/2008_002079.jpg\n",
      "Number of faces detected: 1\n",
      "\n",
      "7. Processing image: Detection/selfie_oscar.jpg\n",
      "Number of faces detected: 1\n",
      "\n",
      "8. Processing image: Detection/2007_007763.jpg\n",
      "Number of faces detected: 1\n",
      "\n",
      "9. Processing image: Detection/cara_calvo.jpg\n",
      "Number of faces detected: 1\n",
      "\n",
      "10. Processing image: Detection/dogs.jpg\n",
      "Number of faces detected: 1\n",
      "\n",
      "11. Processing image: Detection/multitud.jpg\n",
      "Number of faces detected: 1\n",
      "\n",
      "12. Processing image: Detection/2008_001009.jpg\n",
      "Number of faces detected: 1\n",
      "\n",
      "13. Processing image: Detection/2008_002506.jpg\n",
      "Number of faces detected: 1\n",
      "\n",
      "14. Processing image: Detection/2008_007676.jpg\n",
      "Number of faces detected: 1\n",
      "\n",
      "15. Processing image: Detection/cara_perro.jpg\n",
      "Number of faces detected: 1\n",
      "\n",
      "16. Processing image: Detection/2008_001322.jpg\n",
      "Number of faces detected: 1\n",
      "\n"
     ]
    }
   ],
   "source": [
    "win = dlib.image_window()\n",
    "count = 0\n",
    "\n",
    "for i in range(0, n_images):\n",
    "    count += 1\n",
    "    image = images[i]\n",
    "    s3_image = S3_FOLDER + images_names[i]\n",
    "    \n",
    "    print \"{}. Processing image: {}\".format(count, s3_image)\n",
    "    dlib_bounding_checks = dlib_detect_faces(image)\n",
    "    aws_detected_faces = aws_detect_faces(BUCKET, s3_image)\n",
    "    \n",
    "    print \"Number of faces detected: {}\".format(len(detected_faces['FaceDetails']))\n",
    "    print \"\"\n",
    "    \n",
    "    coordinates = [face['BoundingBox'] for face in aws_detected_faces['FaceDetails']]\n",
    "    image_heigth = images[i].shape[0]\n",
    "    image_width = images[i].shape[1]\n",
    "    aws_bounding_checks = create_rectangle(coordinates, image_heigth, image_width)\n",
    "   \n",
    "    win.clear_overlay()\n",
    "    win.set_image(image)\n",
    "    win.add_overlay(dlib_bounding_checks, dlib.rgb_pixel(0,0,255))\n",
    "    win.add_overlay(aws_bounding_checks)"
   ]
  }
 ],
 "metadata": {
  "kernelspec": {
   "display_name": "Python [conda env:python2]",
   "language": "python",
   "name": "conda-env-python2-py"
  },
  "language_info": {
   "codemirror_mode": {
    "name": "ipython",
    "version": 2
   },
   "file_extension": ".py",
   "mimetype": "text/x-python",
   "name": "python",
   "nbconvert_exporter": "python",
   "pygments_lexer": "ipython2",
   "version": "2.7.13"
  }
 },
 "nbformat": 4,
 "nbformat_minor": 2
}
