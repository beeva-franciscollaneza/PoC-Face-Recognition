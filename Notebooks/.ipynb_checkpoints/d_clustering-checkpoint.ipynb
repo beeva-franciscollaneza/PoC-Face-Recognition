{
 "cells": [
  {
   "cell_type": "markdown",
   "metadata": {},
   "source": [
    "# Face clustering with DLIB"
   ]
  },
  {
   "cell_type": "code",
   "execution_count": 32,
   "metadata": {},
   "outputs": [],
   "source": [
    "import dlib\n",
    "from os import listdir, chdir, path, getcwd\n",
    "from skimage import io\n",
    "import time\n",
    "import numpy as np\n",
    "from sklearn.cluster import DBSCAN\n",
    "\n",
    "SHAPE_PREDICTOR_MODEL_PATH = \"../Dlib/Models/shape_predictor_5_face_landmarks.dat\"\n",
    "FACE_RECOGNITION_MODEL_PATH = \"../Dlib/Models/dlib_face_recognition_resnet_model_v1.dat\"\n",
    "DATA_FOLDER = \"../Data/Recognition/\"\n",
    "SAVE_FOLDER = DATA_FOLDER + \"Clustering/\""
   ]
  },
  {
   "cell_type": "code",
   "execution_count": 35,
   "metadata": {},
   "outputs": [],
   "source": [
    "files = listdir(IMAGES_FOLDER, )\n",
    "image_files = [f for f in files if f.endswith('.jpg')]"
   ]
  },
  {
   "cell_type": "code",
   "execution_count": 46,
   "metadata": {},
   "outputs": [
    {
     "name": "stdout",
     "output_type": "stream",
     "text": [
      "1. Processing file bald_guys.jpg\n",
      "Number of faces detected: 24\n",
      "Detection 0: Left: 1457 Top: 1343 Right: 1586 Bottom: 1472\n",
      "Detection 1: Left: 1067 Top: 1295 Right: 1253 Bottom: 1481\n",
      "Detection 2: Left: 56 Top: 77 Right: 242 Bottom: 263\n",
      "Detection 3: Left: 1047 Top: 758 Right: 1232 Bottom: 944\n",
      "Detection 4: Left: 551 Top: 428 Right: 737 Bottom: 614\n",
      "Detection 5: Left: 1823 Top: 438 Right: 1931 Bottom: 546\n",
      "Detection 6: Left: 35 Top: 1274 Right: 221 Bottom: 1460\n",
      "Detection 7: Left: 786 Top: 821 Right: 941 Bottom: 976\n",
      "Detection 8: Left: 64 Top: 700 Right: 218 Bottom: 855\n",
      "Detection 9: Left: 64 Top: 391 Right: 218 Bottom: 546\n",
      "Detection 10: Left: 322 Top: 442 Right: 476 Bottom: 597\n",
      "Detection 11: Left: 1658 Top: 703 Right: 1748 Bottom: 793\n",
      "Detection 12: Left: 340 Top: 1232 Right: 563 Bottom: 1455\n",
      "Detection 13: Left: 861 Top: 407 Right: 1047 Bottom: 593\n",
      "Detection 14: Left: 67 Top: 999 Right: 196 Bottom: 1128\n",
      "Detection 15: Left: 390 Top: 811 Right: 613 Bottom: 1034\n",
      "Detection 16: Left: 342 Top: 56 Right: 450 Bottom: 163\n",
      "Detection 17: Left: 786 Top: 1251 Right: 941 Bottom: 1406\n",
      "Detection 18: Left: 545 Top: 116 Right: 700 Bottom: 270\n",
      "Detection 19: Left: 1128 Top: 1085 Right: 1257 Bottom: 1214\n",
      "Detection 20: Left: 311 Top: 225 Right: 440 Bottom: 354\n",
      "Detection 21: Left: 1790 Top: 1274 Right: 1975 Bottom: 1460\n",
      "Detection 22: Left: 1418 Top: 99 Right: 1739 Bottom: 420\n",
      "Detection 23: Left: 872 Top: 116 Right: 1027 Bottom: 270\n",
      "\n"
     ]
    }
   ],
   "source": [
    "detector = dlib.get_frontal_face_detector()\n",
    "sp = dlib.shape_predictor(SHAPE_PREDICTOR_MODEL_PATH)\n",
    "facerec = dlib.face_recognition_model_v1(FACE_RECOGNITION_MODEL_PATH)\n",
    "face_descriptor = list()\n",
    "detected_faces = list()\n",
    "count = 0\n",
    "\n",
    "# win = dlib.image_window()\n",
    "\n",
    "for f in image_files:\n",
    "    \n",
    "    count += 1\n",
    "    \n",
    "    print(\"{}. Processing file {}\".format(count, f))\n",
    "    img = io.imread(path.join(IMAGES_FOLDER, f))\n",
    "    \n",
    "    # win.clear_overlay()\n",
    "    # win.set_image(img)\n",
    "    \n",
    "    dets = detector(img, 1)\n",
    "    print(\"Number of faces detected: {}\".format(len(dets)))\n",
    "    \n",
    "    for i, d in enumerate(dets):\n",
    "        print(\"Detection {}: Left: {} Top: {} Right: {} Bottom: {}\".format(\n",
    "            i, d.left(), d.top(), d.right(), d.bottom()))\n",
    "        top = max(0, d.top())\n",
    "        bottom = min(img.shape[0], d.bottom())\n",
    "        left = max(0, d.left())\n",
    "        right = min(img.shape[1], d.right())\n",
    "        face = img[top:bottom, left:right,:]\n",
    "        detected_faces.append(face)\n",
    "        shape = sp(img, d)\n",
    "        face_descriptor.append(np.array(facerec.compute_face_descriptor(img, shape, 100)))\n",
    "        \n",
    "        # win.add_overlay(d)\n",
    "        # win.add_overlay(shape)\n",
    "    print(\"\")             \n",
    "\n",
    "    face_descriptor = np.vstack(face_descriptor)"
   ]
  },
  {
   "cell_type": "code",
   "execution_count": 47,
   "metadata": {},
   "outputs": [],
   "source": [
    "cl = DBSCAN(eps=0.48, min_samples=1, metric='euclidean')\n",
    "people = cl.fit_predict(face_descriptor)\n",
    "count_by = np.bincount(people)\n",
    "persons = np.nonzero(count_by)[0]"
   ]
  },
  {
   "cell_type": "code",
   "execution_count": 48,
   "metadata": {},
   "outputs": [
    {
     "name": "stdout",
     "output_type": "stream",
     "text": [
      "Imagen => individuo\n",
      " 0 => 0\n",
      " 1 => 0\n",
      " 2 => 1\n",
      " 3 => 2\n",
      " 4 => 1\n",
      " 5 => 0\n",
      " 6 => 1\n",
      " 7 => 2\n",
      " 8 => 3\n",
      " 9 => 1\n",
      "10 => 3\n",
      "11 => 0\n",
      "12 => 2\n",
      "13 => 3\n",
      "14 => 2\n",
      "15 => 3\n",
      "16 => 3\n",
      "17 => 2\n",
      "18 => 1\n",
      "19 => 2\n",
      "20 => 1\n",
      "21 => 0\n",
      "22 => 0\n",
      "23 => 3\n"
     ]
    }
   ],
   "source": [
    "print(\"Imagen => individuo\")\n",
    "for i,j in zip(range(0, len(people)), people):\n",
    "    if (i < 10):\n",
    "        print(\" \" + str(i) + \" => \" + str(j))\n",
    "    else:\n",
    "        print(str(i) + \" => \" + str(j))"
   ]
  },
  {
   "cell_type": "code",
   "execution_count": 49,
   "metadata": {},
   "outputs": [
    {
     "name": "stdout",
     "output_type": "stream",
     "text": [
      "Individuo: número de veces que aparece\n",
      " 0: 6\n",
      " 1: 6\n",
      " 2: 6\n",
      " 3: 6\n"
     ]
    }
   ],
   "source": [
    "print(\"Individuo: número de veces que aparece\")\n",
    "for i,j in zip(persons, count_by):\n",
    "    if (i < 10):\n",
    "        print(\" \" + str(i) + \": \" + str(j))\n",
    "    else:\n",
    "        print(str(i) + \": \" + str(j))"
   ]
  },
  {
   "cell_type": "code",
   "execution_count": 51,
   "metadata": {},
   "outputs": [],
   "source": [
    "# win = dlib.image_window()\n",
    "for person in persons:\n",
    "    ind_faces = np.where(people == person)[0]\n",
    "    faces = [detected_faces[i] for i in ind_faces]\n",
    "    faces_dim = np.asarray([faces[i].shape for i in range(0,len(faces))])\n",
    "\n",
    "    max_rows = max(faces_dim[:,0])\n",
    "    max_cols = max(faces_dim[:,1])\n",
    "    pad_faces = np.asarray([np.lib.pad(faces[i], \n",
    "                            (\n",
    "                                (0, max_rows - faces[i].shape[0]),\n",
    "                                (0, max_cols - faces[i].shape[1]),\n",
    "                                (0,0)\n",
    "                            ), \n",
    "                            'constant', \n",
    "                            constant_values = 255) \n",
    "                 for i in range(0, len(faces))\n",
    "                ])\n",
    "    \n",
    "    concat_faces = np.hstack(pad_faces) \n",
    "    io.imsave(SAVE_FOLDER + \"person_\" + str(person) + \".jpg\", concat_faces)\n",
    "    \n",
    "    # win.clear_overlay()\n",
    "    # win.set_image(concat_faces)\n",
    "    # time.sleep(2)"
   ]
  }
 ],
 "metadata": {
  "kernelspec": {
   "display_name": "Python 3",
   "language": "python",
   "name": "python3"
  },
  "language_info": {
   "codemirror_mode": {
    "name": "ipython",
    "version": 3
   },
   "file_extension": ".py",
   "mimetype": "text/x-python",
   "name": "python",
   "nbconvert_exporter": "python",
   "pygments_lexer": "ipython3",
   "version": "3.5.4"
  }
 },
 "nbformat": 4,
 "nbformat_minor": 2
}
