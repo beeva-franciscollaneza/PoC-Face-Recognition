{
 "cells": [
  {
   "cell_type": "markdown",
   "metadata": {},
   "source": [
    "# Face detection with DLIB"
   ]
  },
  {
   "cell_type": "code",
   "execution_count": 1,
   "metadata": {
    "collapsed": false
   },
   "outputs": [],
   "source": [
    "from os import listdir, chdir, path\n",
    "from skimage import io\n",
    "import time\n",
    "import dlib\n",
    "\n",
    "IMAGES_FOLDER = \"../Images/Detection\"\n",
    "CNN_MODEL_PATH = \"Models/mmod_human_face_detector.dat\"\n",
    "CNN = 0"
   ]
  },
  {
   "cell_type": "code",
   "execution_count": 2,
   "metadata": {
    "collapsed": false
   },
   "outputs": [],
   "source": [
    "files = listdir(IMAGES_FOLDER, )\n",
    "image_files = [file for file in files if file.endswith('.jpg')]"
   ]
  },
  {
   "cell_type": "code",
   "execution_count": 3,
   "metadata": {
    "collapsed": false
   },
   "outputs": [
    {
     "name": "stdout",
     "output_type": "stream",
     "text": [
      "1. Processing image: bald_guys.jpg\n",
      "Number of faces detected: 24\n",
      "\n",
      "2. Processing image: 2008_004176.jpg\n",
      "Number of faces detected: 7\n",
      "\n",
      "3. Processing image: 2008_002470.jpg\n",
      "Number of faces detected: 6\n",
      "\n",
      "4. Processing image: 2009_004587.jpg\n",
      "Number of faces detected: 2\n",
      "\n",
      "5. Processing image: cara_cara.jpg\n",
      "Number of faces detected: 6\n",
      "\n"
     ]
    },
    {
     "ename": "KeyboardInterrupt",
     "evalue": "",
     "output_type": "error",
     "traceback": [
      "\u001b[0;31m---------------------------------------------------------------------------\u001b[0m",
      "\u001b[0;31mKeyboardInterrupt\u001b[0m                         Traceback (most recent call last)",
      "\u001b[0;32m<ipython-input-3-2841414d3e5f>\u001b[0m in \u001b[0;36m<module>\u001b[0;34m()\u001b[0m\n\u001b[1;32m     26\u001b[0m     \u001b[0mwin\u001b[0m\u001b[0;34m.\u001b[0m\u001b[0mset_image\u001b[0m\u001b[0;34m(\u001b[0m\u001b[0mimg\u001b[0m\u001b[0;34m)\u001b[0m\u001b[0;34m\u001b[0m\u001b[0m\n\u001b[1;32m     27\u001b[0m     \u001b[0mwin\u001b[0m\u001b[0;34m.\u001b[0m\u001b[0madd_overlay\u001b[0m\u001b[0;34m(\u001b[0m\u001b[0mdets\u001b[0m\u001b[0;34m)\u001b[0m\u001b[0;34m\u001b[0m\u001b[0m\n\u001b[0;32m---> 28\u001b[0;31m     \u001b[0mtime\u001b[0m\u001b[0;34m.\u001b[0m\u001b[0msleep\u001b[0m\u001b[0;34m(\u001b[0m\u001b[0;36m2\u001b[0m\u001b[0;34m)\u001b[0m\u001b[0;34m\u001b[0m\u001b[0m\n\u001b[0m",
      "\u001b[0;31mKeyboardInterrupt\u001b[0m: "
     ]
    }
   ],
   "source": [
    "if CNN:\n",
    "    detector = dlib.cnn_face_detection_model_v1(CNN_MODEL_PATH)\n",
    "else:\n",
    "    detector = dlib.get_frontal_face_detector()\n",
    "detected_faces = list()\n",
    "\n",
    "win = dlib.image_window()\n",
    "count = 0\n",
    "\n",
    "for f in image_files:\n",
    "    count += 1    \n",
    "    print \"{}. Processing image: {}\".format(count, f)\n",
    "    img = io.imread(path.join(IMAGES_FOLDER, f))\n",
    "    # The 1 in the second argument indicates that we should upsample the image\n",
    "    # 1 time.  This will make everything bigger and allow us to detect more\n",
    "    # faces.\n",
    "    dets = detector(img, 1)\n",
    "    print \"Number of faces detected: {}\".format(len(dets))\n",
    "    print \"\"\n",
    "    for i, d in enumerate(dets):\n",
    "        face = img[d.top():d.bottom(), d.left():d.right(),:]\n",
    "        detected_faces.append(face)\n",
    "        # print(\"Detection {}: Left: {} Top: {} Right: {} Bottom: {}\".format(i, d.left(), d.top(), d.right(), d.bottom()))\n",
    "\n",
    "    win.clear_overlay()\n",
    "    win.set_image(img)\n",
    "    win.add_overlay(dets)\n",
    "    time.sleep(2)"
   ]
  },
  {
   "cell_type": "code",
   "execution_count": null,
   "metadata": {
    "collapsed": true
   },
   "outputs": [],
   "source": []
  }
 ],
 "metadata": {
  "kernelspec": {
   "display_name": "Python [conda env:python2]",
   "language": "python",
   "name": "conda-env-python2-py"
  },
  "language_info": {
   "codemirror_mode": {
    "name": "ipython",
    "version": 2
   },
   "file_extension": ".py",
   "mimetype": "text/x-python",
   "name": "python",
   "nbconvert_exporter": "python",
   "pygments_lexer": "ipython2",
   "version": "2.7.13"
  }
 },
 "nbformat": 4,
 "nbformat_minor": 2
}
